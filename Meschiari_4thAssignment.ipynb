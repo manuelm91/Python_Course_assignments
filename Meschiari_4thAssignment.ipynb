{
 "cells": [
  {
   "cell_type": "code",
   "execution_count": 50,
   "metadata": {},
   "outputs": [],
   "source": [
    "import re\n",
    "import pandas as pd\n",
    "import numpy as np\n",
    "import matplotlib.pyplot as plt\n",
    "import seaborn as sns\n",
    "import bs4\n",
    "import requests\n",
    "import lxml\n",
    "\n",
    "import requests\n",
    "import urllib\n",
    "from bs4 import BeautifulSoup as bs\n",
    "\n",
    "%matplotlib inline"
   ]
  },
  {
   "cell_type": "markdown",
   "metadata": {},
   "source": [
    "Continuing from my previous assignment, I will further explore the 5 highest grossing movies and look at their ratings to see if they were also positively appreciated by the public. I will scrape 3 of the most used movie-ratings website: Rotten Tomatoes, Letterboxd and IMDB. I will only take into consideration the rating given by the public, and not by the critics."
   ]
  },
  {
   "cell_type": "code",
   "execution_count": 2,
   "metadata": {},
   "outputs": [],
   "source": [
    "url_wiki=\"https://en.wikipedia.org/wiki/List_of_highest-grossing_films\"\n",
    "gross_movie_list = pd.read_html(url_wiki)"
   ]
  },
  {
   "cell_type": "code",
   "execution_count": 3,
   "metadata": {},
   "outputs": [
    {
     "data": {
      "text/html": [
       "<div>\n",
       "<style scoped>\n",
       "    .dataframe tbody tr th:only-of-type {\n",
       "        vertical-align: middle;\n",
       "    }\n",
       "\n",
       "    .dataframe tbody tr th {\n",
       "        vertical-align: top;\n",
       "    }\n",
       "\n",
       "    .dataframe thead th {\n",
       "        text-align: right;\n",
       "    }\n",
       "</style>\n",
       "<table border=\"1\" class=\"dataframe\">\n",
       "  <thead>\n",
       "    <tr style=\"text-align: right;\">\n",
       "      <th></th>\n",
       "      <th>Rank</th>\n",
       "      <th>Peak</th>\n",
       "      <th>Title</th>\n",
       "      <th>Worldwide gross</th>\n",
       "      <th>Year</th>\n",
       "      <th>Reference(s)</th>\n",
       "    </tr>\n",
       "  </thead>\n",
       "  <tbody>\n",
       "    <tr>\n",
       "      <th>0</th>\n",
       "      <td>1</td>\n",
       "      <td>1</td>\n",
       "      <td>Avatar</td>\n",
       "      <td>$2,847,246,203</td>\n",
       "      <td>2009</td>\n",
       "      <td>[# 1][# 2]</td>\n",
       "    </tr>\n",
       "    <tr>\n",
       "      <th>1</th>\n",
       "      <td>2</td>\n",
       "      <td>1</td>\n",
       "      <td>Avengers: Endgame</td>\n",
       "      <td>$2,797,501,328</td>\n",
       "      <td>2019</td>\n",
       "      <td>[# 3][# 4]</td>\n",
       "    </tr>\n",
       "    <tr>\n",
       "      <th>2</th>\n",
       "      <td>3</td>\n",
       "      <td>1</td>\n",
       "      <td>Titanic</td>\n",
       "      <td>$2,187,425,379</td>\n",
       "      <td>1997</td>\n",
       "      <td>[# 5][# 6]</td>\n",
       "    </tr>\n",
       "    <tr>\n",
       "      <th>3</th>\n",
       "      <td>4</td>\n",
       "      <td>3</td>\n",
       "      <td>Star Wars: The Force Awakens</td>\n",
       "      <td>$2,068,223,624</td>\n",
       "      <td>2015</td>\n",
       "      <td>[# 7][# 8]</td>\n",
       "    </tr>\n",
       "    <tr>\n",
       "      <th>4</th>\n",
       "      <td>5</td>\n",
       "      <td>4</td>\n",
       "      <td>Avengers: Infinity War</td>\n",
       "      <td>$2,048,359,754</td>\n",
       "      <td>2018</td>\n",
       "      <td>[# 9][# 10]</td>\n",
       "    </tr>\n",
       "  </tbody>\n",
       "</table>\n",
       "</div>"
      ],
      "text/plain": [
       "   Rank Peak                         Title Worldwide gross  Year Reference(s)\n",
       "0     1    1                        Avatar  $2,847,246,203  2009   [# 1][# 2]\n",
       "1     2    1             Avengers: Endgame  $2,797,501,328  2019   [# 3][# 4]\n",
       "2     3    1                       Titanic  $2,187,425,379  1997   [# 5][# 6]\n",
       "3     4    3  Star Wars: The Force Awakens  $2,068,223,624  2015   [# 7][# 8]\n",
       "4     5    4        Avengers: Infinity War  $2,048,359,754  2018  [# 9][# 10]"
      ]
     },
     "execution_count": 3,
     "metadata": {},
     "output_type": "execute_result"
    }
   ],
   "source": [
    "gross_movie_list[0].head(5)"
   ]
  },
  {
   "cell_type": "markdown",
   "metadata": {},
   "source": [
    "Rotten Tomatoes scraping"
   ]
  },
  {
   "cell_type": "code",
   "execution_count": 10,
   "metadata": {},
   "outputs": [
    {
     "name": "stdout",
     "output_type": "stream",
     "text": [
      "{'Score_Rotten': '82', 'Score_Audience': '82', 'Rating': 'PG-13', 'Genre': ['action', 'fantasy', 'sci-fi', 'adventure']}\n",
      "{'Score_Rotten': '94', 'Score_Audience': '90', 'Rating': 'PG-13', 'Genre': ['action', 'fantasy', 'adventure', 'sci-fi']}\n",
      "{'Score_Rotten': '89', 'Score_Audience': '69', 'Rating': 'PG-13', 'Genre': ['history', 'romance', 'drama']}\n",
      "{'Score_Rotten': '93', 'Score_Audience': '86', 'Rating': 'PG-13', 'Genre': ['sci-fi', 'adventure', 'action', 'fantasy']}\n",
      "{'Score_Rotten': '85', 'Score_Audience': '91', 'Rating': 'PG-13', 'Genre': ['adventure', 'fantasy', 'sci-fi', 'action']}\n"
     ]
    }
   ],
   "source": [
    "from rotten_tomatoes_scraper.rt_scraper import MovieScraper\n",
    "\n",
    "Avatar = MovieScraper(movie_title=\"Avatar\")\n",
    "Avatar.extract_metadata()\n",
    "AvengersEG = MovieScraper(movie_title=\"Avengers: Endgame\")\n",
    "AvengersEG.extract_metadata()\n",
    "Titanic = MovieScraper(movie_title=\"Titanic\")\n",
    "Titanic.extract_metadata()\n",
    "StarWarsFA = MovieScraper(movie_title=\"Star Wars: The Force Awakens\")\n",
    "StarWarsFA.extract_metadata()\n",
    "AvengersIW = MovieScraper(movie_title=\"Avengers: Infinity War\")\n",
    "AvengersIW.extract_metadata()\n",
    "\n",
    "\n",
    "print(Avatar.metadata)\n",
    "print(AvengersEG.metadata)\n",
    "print(Titanic.metadata)\n",
    "print(StarWarsFA.metadata)\n",
    "print(AvengersIW.metadata)"
   ]
  },
  {
   "cell_type": "code",
   "execution_count": 44,
   "metadata": {},
   "outputs": [
    {
     "name": "stdout",
     "output_type": "stream",
     "text": [
      "{'Avatar': 82, 'Avengers EG': 90, 'Titanic': 69, 'Star Wars FA': 86, 'Avengers IW': 91}\n"
     ]
    }
   ],
   "source": [
    "Rotten_Tomatoes = {\"Avatar\": 82, \"Avengers EG\": 90, \"Titanic\": 69, \"Star Wars FA\": 86, \"Avengers IW\": 91}\n",
    "print(Rotten_Tomatoes)"
   ]
  },
  {
   "cell_type": "code",
   "execution_count": 45,
   "metadata": {},
   "outputs": [
    {
     "data": {
      "image/png": "[encoded data removed]",
      "text/plain": [
       "<Figure size 432x288 with 1 Axes>"
      ]
     },
     "metadata": {
      "needs_background": "light"
     },
     "output_type": "display_data"
    }
   ],
   "source": [
    "data = Rotten_Tomatoes\n",
    "names = list(data.keys())\n",
    "values = list(data.values())\n",
    "\n",
    "plt.bar(range(len(data)), values, tick_label=names)\n",
    "\n",
    "plt.show()"
   ]
  },
  {
   "cell_type": "markdown",
   "metadata": {},
   "source": [
    "Letterboxd scraping"
   ]
  },
  {
   "cell_type": "code",
   "execution_count": 30,
   "metadata": {},
   "outputs": [
    {
     "name": "stdout",
     "output_type": "stream",
     "text": [
      "['Weighted average of 3.31 based on 348,717 ratings', '5,088 half-★ ratings (1%)', '11,841 ★ ratings (3%)', '8,165 ★½ ratings (2%)', '32,677 ★★ ratings (9%)', '29,159 ★★½ ratings (8%)', '78,854 ★★★ ratings (23%)', '54,459 ★★★½ ratings (16%)', '71,947 ★★★★ ratings (21%)', '19,539 ★★★★½ ratings (6%)', '36,988 ★★★★★ ratings (11%)']\n"
     ]
    }
   ],
   "source": [
    "mov1 = requests.get('https://letterboxd.com/csi/film/avatar/rating-histogram/')\n",
    "soup = bs(mov1.content, 'lxml')\n",
    "ratings1 = [item['title'].replace('\\xa0',' ') for item in soup.select('.tooltip')]\n",
    "print(ratings1)"
   ]
  },
  {
   "cell_type": "code",
   "execution_count": 32,
   "metadata": {},
   "outputs": [
    {
     "name": "stdout",
     "output_type": "stream",
     "text": [
      "['Weighted average of 3.91 based on 546,092 ratings', '3,359 half-★ ratings (1%)', '6,610 ★ ratings (1%)', '4,444 ★½ ratings (1%)', '19,275 ★★ ratings (4%)', '20,193 ★★½ ratings (4%)', '74,503 ★★★ ratings (14%)', '68,941 ★★★½ ratings (13%)', '144,470 ★★★★ ratings (26%)', '67,688 ★★★★½ ratings (12%)', '136,609 ★★★★★ ratings (25%)']\n"
     ]
    }
   ],
   "source": [
    "mov2 = requests.get('https://letterboxd.com/csi/film/avengers-endgame/rating-histogram/')\n",
    "soup = bs(mov2.content, 'lxml')\n",
    "ratings2 = [item['title'].replace('\\xa0',' ') for item in soup.select('.tooltip')]\n",
    "print(ratings3)"
   ]
  },
  {
   "cell_type": "code",
   "execution_count": 31,
   "metadata": {},
   "outputs": [
    {
     "name": "stdout",
     "output_type": "stream",
     "text": [
      "['Weighted average of 3.75 based on 373,714 ratings', '1,889 half-★ ratings (1%)', '4,743 ★ ratings (1%)', '3,096 ★½ ratings (1%)', '16,835 ★★ ratings (5%)', '16,085 ★★½ ratings (4%)', '67,612 ★★★ ratings (18%)', '56,948 ★★★½ ratings (15%)', '101,355 ★★★★ ratings (27%)', '30,942 ★★★★½ ratings (8%)', '74,209 ★★★★★ ratings (20%)']\n"
     ]
    }
   ],
   "source": [
    "mov3 = requests.get('https://letterboxd.com/csi/film/titanic-1997/rating-histogram/')\n",
    "soup = bs(mov3.content, 'lxml')\n",
    "ratings3 = [item['title'].replace('\\xa0',' ') for item in soup.select('.tooltip')]\n",
    "print(ratings2)"
   ]
  },
  {
   "cell_type": "code",
   "execution_count": 34,
   "metadata": {},
   "outputs": [
    {
     "name": "stdout",
     "output_type": "stream",
     "text": [
      "['Weighted average of 3.55 based on 491,710 ratings', '2,710 half-★ ratings (1%)', '7,678 ★ ratings (2%)', '5,005 ★½ ratings (1%)', '27,590 ★★ ratings (6%)', '25,802 ★★½ ratings (5%)', '109,266 ★★★ ratings (22%)', '84,245 ★★★½ ratings (17%)', '142,166 ★★★★ ratings (29%)', '36,506 ★★★★½ ratings (7%)', '50,742 ★★★★★ ratings (10%)']\n"
     ]
    }
   ],
   "source": [
    "mov4 = requests.get('https://letterboxd.com/csi/film/star-wars-the-force-awakens/rating-histogram/')\n",
    "soup = bs(mov4.content, 'lxml')\n",
    "ratings4 = [item['title'].replace('\\xa0',' ') for item in soup.select('.tooltip')]\n",
    "print(ratings4)"
   ]
  },
  {
   "cell_type": "code",
   "execution_count": 35,
   "metadata": {},
   "outputs": [
    {
     "name": "stdout",
     "output_type": "stream",
     "text": [
      "['Weighted average of 3.94 based on 581,010 ratings', '2,381 half-★ ratings (0%)', '5,941 ★ ratings (1%)', '3,415 ★½ ratings (1%)', '18,113 ★★ ratings (3%)', '17,159 ★★½ ratings (3%)', '76,779 ★★★ ratings (13%)', '71,434 ★★★½ ratings (12%)', '175,867 ★★★★ ratings (30%)', '74,835 ★★★★½ ratings (13%)', '135,086 ★★★★★ ratings (23%)']\n"
     ]
    }
   ],
   "source": [
    "mov5 = requests.get('https://letterboxd.com/csi/film/avengers-infinity-war/rating-histogram/')\n",
    "soup = bs(mov5.content, 'lxml')\n",
    "ratings5 = [item['title'].replace('\\xa0',' ') for item in soup.select('.tooltip')]\n",
    "print(ratings5)"
   ]
  },
  {
   "cell_type": "code",
   "execution_count": 46,
   "metadata": {},
   "outputs": [
    {
     "name": "stdout",
     "output_type": "stream",
     "text": [
      "{'Avatar': 3.31, 'Avengers EG': 3.91, 'Titanic': 3.75, 'Star Wars FA': 3.55, 'Avengers IW': 3.94}\n"
     ]
    }
   ],
   "source": [
    "Letterboxd = {\"Avatar\": 3.31, \"Avengers EG\": 3.91, \"Titanic\": 3.75, \"Star Wars FA\": 3.55, \"Avengers IW\": 3.94}\n",
    "print(Letterboxd)"
   ]
  },
  {
   "cell_type": "code",
   "execution_count": 47,
   "metadata": {},
   "outputs": [
    {
     "data": {
      "image/png": "[encoded data removed]",
      "text/plain": [
       "<Figure size 432x288 with 1 Axes>"
      ]
     },
     "metadata": {
      "needs_background": "light"
     },
     "output_type": "display_data"
    }
   ],
   "source": [
    "data = Letterboxd\n",
    "names = list(data.keys())\n",
    "values = list(data.values())\n",
    "\n",
    "plt.bar(range(len(data)), values, tick_label=names)\n",
    "\n",
    "plt.show()"
   ]
  },
  {
   "cell_type": "markdown",
   "metadata": {},
   "source": [
    "IMDB scraping"
   ]
  },
  {
   "cell_type": "code",
   "execution_count": 66,
   "metadata": {},
   "outputs": [
    {
     "name": "stdout",
     "output_type": "stream",
     "text": [
      "7.8\n"
     ]
    }
   ],
   "source": [
    "from requests import get\n",
    "url = 'https://www.imdb.com/title/tt0499549/'\n",
    "response = get(url)\n",
    "html_soup = BeautifulSoup(response.text, 'html.parser')\n",
    "type(html_soup)\n",
    "rating = html_soup.find(\"span\",{\"itemprop\":\"ratingValue\"}).text\n",
    "print(rating)"
   ]
  },
  {
   "cell_type": "code",
   "execution_count": 67,
   "metadata": {},
   "outputs": [
    {
     "name": "stdout",
     "output_type": "stream",
     "text": [
      "8.4\n"
     ]
    }
   ],
   "source": [
    "from requests import get\n",
    "url = 'https://www.imdb.com/title/tt4154796/?ref_=nv_sr_srsg_0'\n",
    "response = get(url)\n",
    "html_soup = BeautifulSoup(response.text, 'html.parser')\n",
    "type(html_soup)\n",
    "rating = html_soup.find(\"span\",{\"itemprop\":\"ratingValue\"}).text\n",
    "print(rating)"
   ]
  },
  {
   "cell_type": "code",
   "execution_count": 68,
   "metadata": {},
   "outputs": [
    {
     "name": "stdout",
     "output_type": "stream",
     "text": [
      "7.8\n"
     ]
    }
   ],
   "source": [
    "from requests import get\n",
    "url = 'https://www.imdb.com/title/tt0120338/?ref_=nv_sr_srsg_0'\n",
    "response = get(url)\n",
    "html_soup = BeautifulSoup(response.text, 'html.parser')\n",
    "type(html_soup)\n",
    "rating = html_soup.find(\"span\",{\"itemprop\":\"ratingValue\"}).text\n",
    "print(rating)"
   ]
  },
  {
   "cell_type": "code",
   "execution_count": 69,
   "metadata": {},
   "outputs": [
    {
     "name": "stdout",
     "output_type": "stream",
     "text": [
      "7.8\n"
     ]
    }
   ],
   "source": [
    "from requests import get\n",
    "url = 'https://www.imdb.com/title/tt2488496/?ref_=nv_sr_srsg_0'\n",
    "response = get(url)\n",
    "html_soup = BeautifulSoup(response.text, 'html.parser')\n",
    "type(html_soup)\n",
    "rating = html_soup.find(\"span\",{\"itemprop\":\"ratingValue\"}).text\n",
    "print(rating)"
   ]
  },
  {
   "cell_type": "code",
   "execution_count": 70,
   "metadata": {},
   "outputs": [
    {
     "name": "stdout",
     "output_type": "stream",
     "text": [
      "8.4\n"
     ]
    }
   ],
   "source": [
    "from requests import get\n",
    "url = 'https://www.imdb.com/title/tt4154756/?ref_=nv_sr_srsg_0'\n",
    "response = get(url)\n",
    "html_soup = BeautifulSoup(response.text, 'html.parser')\n",
    "type(html_soup)\n",
    "rating = html_soup.find(\"span\",{\"itemprop\":\"ratingValue\"}).text\n",
    "print(rating)"
   ]
  },
  {
   "cell_type": "code",
   "execution_count": 71,
   "metadata": {},
   "outputs": [
    {
     "name": "stdout",
     "output_type": "stream",
     "text": [
      "{'Avatar': 7.8, 'Avenger EG': 8.4, 'Titanic': 7.8, 'Star Wars FA': 7.8, 'Avengers IW': 8.4}\n"
     ]
    }
   ],
   "source": [
    "imdb = {\"Avatar\": 7.8, \"Avenger EG\": 8.4, \"Titanic\": 7.8, \"Star Wars FA\": 7.8, \"Avengers IW\": 8.4}\n",
    "print(imdb)"
   ]
  },
  {
   "cell_type": "code",
   "execution_count": 72,
   "metadata": {},
   "outputs": [
    {
     "data": {
      "image/png": "[encoded data removed]",
      "text/plain": [
       "<Figure size 432x288 with 1 Axes>"
      ]
     },
     "metadata": {
      "needs_background": "light"
     },
     "output_type": "display_data"
    }
   ],
   "source": [
    "data = imdb\n",
    "names = list(data.keys())\n",
    "values = list(data.values())\n",
    "\n",
    "plt.bar(range(len(data)), values, tick_label=names)\n",
    "\n",
    "plt.show()"
   ]
  },
  {
   "cell_type": "markdown",
   "metadata": {},
   "source": [
    "I will now put all of the rating in a list, in order to have a better understanding"
   ]
  },
  {
   "cell_type": "code",
   "execution_count": 76,
   "metadata": {},
   "outputs": [
    {
     "name": "stdout",
     "output_type": "stream",
     "text": [
      "[{'Avatar': 82, 'Avengers EG': 90, 'Titanic': 69, 'Star Wars FA': 86, 'Avengers IW': 91}, {'Avatar': 3.31, 'Avengers EG': 3.91, 'Titanic': 3.75, 'Star Wars FA': 3.55, 'Avengers IW': 3.94}, {'Avatar': 7.8, 'Avenger EG': 8.4, 'Titanic': 7.8, 'Star Wars FA': 7.8, 'Avengers IW': 8.4}]\n"
     ]
    }
   ],
   "source": [
    "Public_Ratings = [Rotten_Tomatoes, Letterboxd, imdb]\n",
    "print(Public_Ratings)"
   ]
  },
  {
   "cell_type": "markdown",
   "metadata": {},
   "source": [
    "It seems that Avatar, which is the highest grossing movie, was not so well received by the public as the others did. But overall it looks like there is a correspondance (and no discrepancy) between the box office revenue and the viewer appreciation."
   ]
  },
  {
   "cell_type": "markdown",
   "metadata": {},
   "source": [
    "-Manuel Meschiari"
   ]
  },
  {
   "cell_type": "code",
   "execution_count": null,
   "metadata": {},
   "outputs": [],
   "source": []
  }
 ],
 "metadata": {
  "kernelspec": {
   "display_name": "Python 3",
   "language": "python",
   "name": "python3"
  },
  "language_info": {
   "codemirror_mode": {
    "name": "ipython",
    "version": 3
   },
   "file_extension": ".py",
   "mimetype": "text/x-python",
   "name": "python",
   "nbconvert_exporter": "python",
   "pygments_lexer": "ipython3",
   "version": "3.8.5"
  }
 },
 "nbformat": 4,
 "nbformat_minor": 4
}
